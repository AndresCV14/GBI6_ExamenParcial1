{
 "cells": [
  {
   "cell_type": "markdown",
   "metadata": {},
   "source": [
    "<img src=\"https://www.ikiam.edu.ec/img/logo-ikiam-grey.png\" width=300 height=240 />\n",
    "\n",
    "# EXAMEN PARCIAL 1\n",
    "\n",
    "## GBI6-2021II: BIOINFORMÁTICA\n",
    "\n",
    "**Calderón Velasco Andrés Sebastian**\n",
    "\n",
    "**14-01-2021**"
   ]
  },
  {
   "cell_type": "markdown",
   "metadata": {},
   "source": [
    "<font color='red'>NO AGREGUE NUEVAS CELDAS, UTILICE ÚNICAMENTE LAS QUE ESTÁN CREADAS</font>"
   ]
  },
  {
   "cell_type": "markdown",
   "metadata": {},
   "source": [
    "# 1. UNIX\n",
    "\n",
    "## Ejercicio 1\n",
    "Para esta pregunta debe realizar previamente lo siguiente: \n",
    "\n",
    "- Imprimir el directorio de trabajo actual. \n",
    "- Crear un directorio test1.\n",
    "- <font color='red'>No cambie de directorio, pero los items 4, 5 y 6 deben guardarse en el directorio creado en el paso 2.</font> \n",
    "- Crear el archivo test1.txt\n",
    "- Guardar el texto Hola GBI6 en un archivo test2.txt\n",
    "- Guardar la instrucción print(\"Hola GBI6\")  en el archivo test1.py\n",
    "\n",
    "[![Ejercicio-1.png](https://i.postimg.cc/3J5vL23z/Ejercicio-1.png)](https://postimg.cc/fkCyyttv)\n",
    "\n",
    "## Ejercicio 2\n",
    "Para esta pregunta debe realizar previamente lo siguiente: \n",
    "\n",
    "- Imprimir el directorio de trabajo actual. \n",
    "- Crear un directorio test1.\n",
    "- <font color='red'>No cambie de directorio, pero los items 4, 5 y 6 deben guardarse en el directorio creado en el paso 2.</font> \n",
    "- Crear el archivo test1.txt\n",
    "- Guardar el texto Hola GBI6 en un archivo test2.txt\n",
    "- Guardar la instrucción print(\"Hola GBI6\")  en el archivo test1.py\n",
    "\n",
    "[![Ejercicio-2.png](https://i.postimg.cc/SxzRXFDB/Ejercicio-2.png)](https://postimg.cc/0zPP33gn)\n",
    "\n",
    "El comando ls se usa para demostrar que efectivamente se borró el archi test1.py\n",
    "\n",
    "## Ejercicio 3\n",
    "Seleccione la opción de código que imprime el directorio de trabajo actual\n",
    "\n",
    "[![Ejercicio-3.png](https://i.postimg.cc/pTkLN2LF/Ejercicio-3.png)](https://postimg.cc/njjJBf7F)\n",
    "\n",
    "## Ejercicio 4\n",
    "Resuelva el ejercicio 1.10.4 Data Explorer. \n",
    "\n",
    "- Resuelva el ejercicio en un documento de nombre ejercicio_1104.sh\n",
    "- Cargue el documento ejercicio_1104.sh en GitHub utilizando git push. \n",
    "- Realice el video explicativo de la resolución ejercicio y guarde en YouTube en formato \"Público\" o \"Unlisted\", y pegue el enlace en el cuaderno de Jupyter.\n"
   ]
  },
  {
   "cell_type": "code",
   "execution_count": 2,
   "metadata": {},
   "outputs": [
    {
     "data": {
      "text/html": [
       "<iframe width=\"560\" height=\"315\" src=\"https://www.youtube.com/embed/o4uZ6iqVRUU\" title=\"YouTube video player\" frameborder=\"0\" allow=\"accelerometer; autoplay; clipboard-write; encrypted-media; gyroscope; picture-in-picture\" allowfullscreen></iframe>"
      ],
      "text/plain": [
       "<IPython.core.display.HTML object>"
      ]
     },
     "execution_count": 2,
     "metadata": {},
     "output_type": "execute_result"
    }
   ],
   "source": [
    "# Coloque aquí su video del ejercicio 4\n",
    "from IPython.display import HTML\n",
    HTML('<iframe width=\"560\" height=\"315\" src=\"https://www.youtube.com/embed/o4uZ6iqVRUU\" title=\"YouTube video player\" frameborder=\"0\" allow=\"accelerometer; autoplay; clipboard-write; encrypted-media; gyroscope; picture-in-picture\" allowfullscreen></iframe>')
   ]
  },
  {
   "cell_type": "markdown",
   "metadata": {},
   "source": [
    "\n",
    "## Ejercicio 5\n",
    "Resuelva el ejercicio 1.10.3 Plant–Pollinator Networks. \n",
    "\n",
    "- Resuelva el ejercicio en un documento de nombre ejercicio_1103.sh\n",
    "- Cargue el documento ejercicio_1103.sh en GitHub utilizando git push. \n",
    "- Realice el video explicativo de la resolución ejercicio y guarde en YouTube en formato \"Público\" o \"Unlisted\", y pegue el enlace en el cuaderno de Jupyter.\n"
   ]
  },
  {
   "cell_type": "code",
   "execution_count": 5,
   "metadata": {},
   "outputs": [
    {
     "data": {
      "text/html": [
       "<iframe width=\"560\" height=\"315\" src=\"https://www.youtube.com/embed/3XlZWpLwvvo\" title=\"YouTube video player\" frameborder=\"0\" allow=\"accelerometer; autoplay; clipboard-write; encrypted-media; gyroscope; picture-in-picture\" allowfullscreen></iframe>"
      ],
      "text/plain": [
       "<IPython.core.display.HTML object>"
      ]
     },
     "execution_count": 5,
     "metadata": {},
     "output_type": "execute_result"
    }
   ],
   "source": [
    "# Coloque aquí su video del ejercicio 5\n",
    "from IPython.display import HTML\n",
    "HTML('<iframe width=\"560\" height=\"315\" src=\"https://www.youtube.com/embed/3XlZWpLwvvo\" title=\"YouTube video player\" frameborder=\"0\" allow=\"accelerometer; autoplay; clipboard-write; encrypted-media; gyroscope; picture-in-picture\" allowfullscreen></iframe>')\n"
   ]
  },
  {
   "cell_type": "markdown",
   "metadata": {
    "jp-MarkdownHeadingCollapsed": true,
    "tags": []
   },
   "source": [
    "Escriba aquí alguna explicación del ejercicio 5 si lo considera necesario (borre esta línea cuando finalice)\n",
    "\n",
    "# 2. CONTROL DE LA VERSIÓN\n",
    "## Pregunta 6\n",
    "1. Cree en GitHub un repositorio de nombre ```GBI6_ExamenParcial1```. \n",
    "2. Cree un archivo ```Readme.md``` que debe tener lo siguiente: \n",
    "- Datos personales\n",
    "- Características del computador\n",
    "- Programas utilizados\n",
    "- Explicación de la data utilizada\n",
    "\n",
    "\n",
    "## Pregunta 7\n",
    "1. Cada vez que resuelva un ejercicio (del 1 al 10), utilizando Git Bash, GitHub Desktop o Atom realice un *git push* con el mensaje: \n",
    "\n",
    "\n",
    "<font color='red'>Apellido Nombre ha resuelto el ejercicio 1</font> % Cambie con sus apellidos y nombres; y con el número de ejercicio que corresponda \n",
    "\n",
    "2. Coloque aquí las capturas de pantalla para cada git push realizado desde Git Bash, GitHub Desktop o Atom. \n",
    "\n",
    "- Control de versión ejercicio 1\n",
    "\n",
    "[![Control-1.png](https://i.postimg.cc/1X09ssBS/Control-1.png)](https://postimg.cc/rRm6967Z)\n",
    "\n",
    "- Control de versión ejercicio 2\n",
    "\n",
    "[![Control-2.png](https://i.postimg.cc/5219tYQC/Control-2.png)](https://postimg.cc/1fC1CzHm)\n",
    "\n",
    "- Control de versión ejercicio 3\n",
    "\n",
    "[![Control-3.png](https://i.postimg.cc/9FB0ZYhp/Control-3.png)](https://postimg.cc/kBB7d8D6)\n",
    "\n",
    "- Control de versión ejercicio 4\n",
    "\n",
    "[![Control-4.png](https://i.postimg.cc/wBTcMsyP/Control-4.png)](https://postimg.cc/4YqhFy1b)\n",
    "\n",
    "- Control de versión ejercicio 5\n",
    "\n",
    "<img src=\"data/ejemplo_unix.jpg\" width=600 height=450 />\n",
    "\n",
    "- Control de versión ejercicio 8\n",
    "\n",
    "[![Control-8.png](https://i.postimg.cc/Pq41rYZv/Control-8.png)](https://postimg.cc/xkXX6k69)\n",
    "\n",
    "- Control de versión ejercicio 9\n",
    "\n",
    "[![Control-9.png](https://i.postimg.cc/Qtz9HbMC/Control-9.png)](https://postimg.cc/YG1qPQYB)\n",
    "\n",
    "- Control de versión ejercicio 10\n",
    "\n",
    "[![Control-10.png](https://i.postimg.cc/13KK4k1z/Control-10.png)](https://postimg.cc/bZsnBFJX)\n",
    "\n",
    "\n",
    "3. Cree un directorio de nombre ```data``` donde deben estar guardados: (i) la data utilizada y (ii) las capturas de pantalla de los ejercicios 1 al 3 y los git push del ejercicio 1 al 10 (en total debe tener 13 imágenes). \n",
    "4. Inserte aquí el enlace de su repositorio (válido para el ejercicio 6 y 7): [GitHub Repository: GBI6_ExamenParcial1](https://github.com/gualapuromoises/2021_gbi6.git) (este enlace es de ejemplo)"
   ]
  },
  {
   "cell_type": "markdown",
   "metadata": {},
   "source": [
    "# 3. INTRODUCCIÓN A PYTHON\n",
    "\n",
    "## Ejercicio 8\n",
    "\n",
    "Para este ejercicio tiene que crear previamente lo siguiente: \n",
    "\n",
    "Una lista de nombre lista1 que tenga a las 10 primeras letras del alfabeto."
   ]
  },
  {
   "cell_type": "code",
   "execution_count": 6,
   "metadata": {},
   "outputs": [
    {
     "name": "stdout",
     "output_type": "stream",
     "text": [
      "Enunciados que nos piden en moodle\n",
      "['c', 'd', 'e']\n",
      "d\n",
      "11\n",
      "ikiam\n"
     ]
    }
   ],
   "source": [
    "lista1 = [\"a\", \"b\", \"c\", \"d\", \"e\", \"f\", \"g\", \"h\", \"i\", \"j\"]\n",
    "print(\"Enunciados que nos piden en moodle\")\n",
    "\n",
    "print(lista1[2:5]) #letras en las posiciones 2 y 5 de lista1\n",
    "\n",
    "print(lista1[3]) #muestra la letra en la posición 3\n",
    "\n",
    "lista1.append([\"gbi6\",\"bio1\",\"ikiam\"])\n",
    "print(len(lista1)) #regresa la longitud de la lista\n",
    "\n",
    "lista1.append([\"gbi6\",\"bio1\",\"ikiam\"])\n",
    "print(lista1[-1][-1]) #devuelve la palabra ikiam\n",
    "\n",
    "\n"
   ]
  },
  {
   "cell_type": "markdown",
   "metadata": {},
   "source": [
    "## Ejercicio 9\n",
    "\n",
    "Para este ejercicio debe debe realizar lo siguiente:\n",
    "\n",
    "Crear un diccionario de nombre dic_aminoacidos, donde se tenga la información de la tabla que se encuentra en http://www.russelllab.org/aas/aas.html. \n",
    "\n",
    "Utilice como \"key\" los valores de la columna \"AA\" y las columnas \"Hits\" y \"%Abundance\" como \"values\".\n",
    "\n",
    "Luego de crear el diccionario, extraiga los valores de \"key\" a una lista de nombre \"aminoacidos\"\n",
    "\n",
    "Extraiga los valores de \"value\" a una lista de nombre \"propiedades\""
   ]
  },
  {
   "cell_type": "code",
   "execution_count": 8,
   "metadata": {},
   "outputs": [
    {
     "name": "stdout",
     "output_type": "stream",
     "text": [
      "diccionario de aminoacidos\n",
      "{'Trp': '1550 1.34', 'Cys': '1905 1.76', 'His': '1695 2.26', 'Arg': '3093 5.20', 'Met': '1102 2.32', 'Tyr': '1525 3.25', 'Gln': '1830 3.96', 'Phe': '1616 4.12', 'Asp': '1691 5.12', 'Pro': '1598 5.00', 'Ala': '2018 7.34', 'Asn': '1103 4.57', 'Lys': '1366 5.81', 'Glu': '1471 6.22', 'Gly': '1386 6.89', 'Thr': '1147 5.85', 'Val': '1225 6.48', 'Ile': '1033 5.76', 'Ser': '1206 7.38', 'Leu': '1127 9.36'}\n",
      "\n",
      "Aminoacidos: ['Trp', 'Cys', 'His', 'Arg', 'Met', 'Tyr', 'Gln', 'Phe', 'Asp', 'Pro', 'Ala', 'Asn', 'Lys', 'Glu', 'Gly', 'Thr', 'Val', 'Ile', 'Ser', 'Leu']\n",
      "\n",
      "Propiedades: ['1550 1.34', '1905 1.76', '1695 2.26', '3093 5.20', '1102 2.32', '1525 3.25', '1830 3.96', '1616 4.12', '1691 5.12', '1598 5.00', '2018 7.34', '1103 4.57', '1366 5.81', '1471 6.22', '1386 6.89', '1147 5.85', '1225 6.48', '1033 5.76', '1206 7.38', '1127 9.36']\n"
     ]
    }
   ],
   "source": [
    "dic_aminoacidos =  {\"Trp\":\"1550 1.34\",\n",
    "                    \"Cys\":\"1905 1.76\",\n",
    "                    \"His\":\"1695 2.26\",\n",
    "                    \"Arg\":\"3093 5.20\",\n",
    "                    \"Met\":\"1102 2.32\",\n",
    "                    \"Tyr\":\"1525 3.25\",\n",
    "                    \"Gln\":\"1830 3.96\",\n",
    "                    \"Phe\":\"1616 4.12\",\n",
    "                    \"Asp\":\"1691 5.12\",\n",
    "                    \"Pro\":\"1598 5.00\",\n",
    "                    \"Ala\":\"2018 7.34\",\n",
    "                    \"Asn\":\"1103 4.57\",\n",
    "                    \"Lys\":\"1366 5.81\",\n",
    "                    \"Glu\":\"1471 6.22\",\n",
    "                    \"Gly\":\"1386 6.89\",\n",
    "                    \"Thr\":\"1147 5.85\",\n",
    "                    \"Val\":\"1225 6.48\",\n",
    "                    \"Ile\":\"1033 5.76\",\n",
    "                    \"Ser\":\"1206 7.38\",\n",
    "                    \"Leu\":\"1127 9.36\"\n",
    "                  }\n",
    "print(\"diccionario de aminoacidos\")\n",
    "print(dic_aminoacidos) # regresa el diccionario que se creo\n",
    "\n",
    "aminoacidos = list(dic_aminoacidos.keys()) # se extraen los keys y se añaden en una lista llamada aminoacidos\n",
    "print()\n",
    "print(\"Aminoacidos:\", aminoacidos) # muestra la lista aminoacidos\n",
    "propiedades  = list(dic_aminoacidos.values()) # se extraen los values y se añaden en una lista llamada propiedades\n",
    "print()\n",
    "print(\"Propiedades:\", propiedades) # muestra la lista propiedades"
   ]
  },
  {
   "cell_type": "markdown",
   "metadata": {},
   "source": [
    "## Ejercicio 10\n",
    "\n",
    "Para este ejercicio tiene que crear previamente lo siguiente: \n",
    "\n",
    "Descargue la data \"SI Table 1\" (10080Table1.xls) de la página https://www.pnas.org/content/suppl/2006/12/27/0610080104.DC1. Esta data corresponde a algunas características de sueño de mamíferos. Seleccione los 10 primeros registros de la columna \"Total sleep time, hr\" y cree una lista de nombre lista1."
   ]
  },
  {
   "cell_type": "code",
   "execution_count": 23,
   "metadata": {},
   "outputs": [
    {
     "name": "stdout",
     "output_type": "stream",
     "text": [
      "el código lista1[5] regresa: 10.1\n",
      "el código lista[8:] regresa: [14.9, 9.1]\n",
      "el código sum(lista1)/len(lista1) regresa: 13.079999999999998\n",
      "el comando lista[-1][2] regresa: ikiam\n",
      "el comando len(lista1) regresa: 13\n",
      "el comando round(sum(lista1)/len(lista1),3) regresa: 13.08\n"
     ]
    }
   ],
   "source": [
    "lista1 = [8.6, 18.0, 19.4, 13.7, 11.1, 10.1, 10.3, 15.6, 14.9, 9.1] # se crea la lista con los 10 primeros digitos de la columna Total sleep time, hr\n",
    "# Códigos pedidos en la plataforma moodle\n",
    "\n",
    "print(\"el código lista1[5] regresa:\", lista1[5]) # da el dato en la posición 5\n",
    "\n",
    "print(\"el código lista[8:] regresa:\", lista1[8:]) # muestra los datos a partir de 8 hacia la derecha\n",
    "\n",
    "print(\"el código sum(lista1)/len(lista1) regresa:\", sum(lista1)/len(lista1)) # divide la suma de todos los números de la lista1\n",
    "\n",
    "lista1.append([\"gbi6\",\"bio1\",\"ikiam\"])\n",
    "print(\"el comando lista[-1][2] regresa:\", lista1[-1][2]) # devuelve la palabra ikiam\n",
    "\n",
    "lista1 = [8.6, 18.0, 19.4, 13.7, 11.1, 10.1, 10.3, 15.6, 14.9, 9.1]\n",
    "lista1.extend([\"gbi6\",\"bio1\",\"ikiam\"])\n",
    "print(\"el comando len(lista1) regresa:\", len(lista1))\n",
    "\n",
    "lista1 = [8.6, 18.0, 19.4, 13.7, 11.1, 10.1, 10.3, 15.6, 14.9, 9.1]\n",
    "print(\"el comando round(sum(lista1)/len(lista1),3) regresa:\", round(sum(lista1)/len(lista1), 3)) # se redondea a la tercera cifra el resultado de la operación    "
   ]
  },
  {
   "cell_type": "code",
   "execution_count": null,
   "metadata": {},
   "outputs": [],
   "source": []
  },
  {
   "cell_type": "code",
   "execution_count": null,
   "metadata": {},
   "outputs": [],
   "source": []
  }
 ],
 "metadata": {
  "kernelspec": {
   "display_name": "Python 3",
   "language": "python",
   "name": "python3"
  },
  "language_info": {
   "codemirror_mode": {
    "name": "ipython",
    "version": 3
   },
   "file_extension": ".py",
   "mimetype": "text/x-python",
   "name": "python",
   "nbconvert_exporter": "python",
   "pygments_lexer": "ipython3",
   "version": "3.8.8"
  },
  "latex_envs": {
   "LaTeX_envs_menu_present": true,
   "autoclose": false,
   "autocomplete": true,
   "bibliofile": "biblio.bib",
   "cite_by": "apalike",
   "current_citInitial": 1,
   "eqLabelWithNumbers": true,
   "eqNumInitial": 1,
   "hotkeys": {
    "equation": "Ctrl-E",
    "itemize": "Ctrl-I"
   },
   "labels_anchors": false,
   "latex_user_defs": false,
   "report_style_numbering": false,
   "user_envs_cfg": false
  },
  "toc": {
   "base_numbering": 1,
   "nav_menu": {},
   "number_sections": true,
   "sideBar": false,
   "skip_h1_title": false,
   "title_cell": "Table of Contents",
   "title_sidebar": "Contents",
   "toc_cell": false,
   "toc_position": {
    "height": "1152.67px",
    "left": "41px",
    "top": "110px",
    "width": "253.458px"
   },
   "toc_section_display": true,
   "toc_window_display": false
  },
  "varInspector": {
   "cols": {
    "lenName": 16,
    "lenType": 16,
    "lenVar": 40
   },
   "kernels_config": {
    "python": {
     "delete_cmd_postfix": "",
     "delete_cmd_prefix": "del ",
     "library": "var_list.py",
     "varRefreshCmd": "print(var_dic_list())"
    },
    "r": {
     "delete_cmd_postfix": ") ",
     "delete_cmd_prefix": "rm(",
     "library": "var_list.r",
     "varRefreshCmd": "cat(var_dic_list()) "
    }
   },
   "types_to_exclude": [
    "module",
    "function",
    "builtin_function_or_method",
    "instance",
    "_Feature"
   ],
   "window_display": false
  }
 },
 "nbformat": 4,
 "nbformat_minor": 4
}
